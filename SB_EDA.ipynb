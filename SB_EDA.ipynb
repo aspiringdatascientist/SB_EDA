{
 "cells": [
  {
   "cell_type": "code",
   "execution_count": 226,
   "metadata": {},
   "outputs": [],
   "source": [
    "# import all the necessary packages\n",
    "import numpy as np\n",
    "import json\n",
    "import zipfile\n",
    "import pandas as pd\n",
    "import seaborn as sns\n",
    "import matplotlib.pyplot as plt\n",
    "#import SciPy's norm() function.\n",
    "import scipy\n",
    "import scipy.stats as stats\n",
    "from statsmodels.stats.weightstats import ztest"
   ]
  },
  {
   "cell_type": "code",
   "execution_count": 227,
   "metadata": {},
   "outputs": [],
   "source": [
    "# Contents of the zip file\n",
    "z = zipfile.ZipFile('D:/sr/1520467485_dsc_human_temp.zip','r')\n",
    "#z.namelist()"
   ]
  },
  {
   "cell_type": "code",
   "execution_count": 228,
   "metadata": {},
   "outputs": [],
   "source": [
    "# opening the above file to know its contents\n",
    "with open('D:/sr/1520467485_dsc_human_temp/EDA_human_temperature/sliderule_dsi_inferential_statistics_exercise_1.ipynb') as f:\n",
    "    data = json.load(f)\n",
    "    f.close()\n",
    "#data"
   ]
  },
  {
   "cell_type": "markdown",
   "metadata": {},
   "source": [
    "\n",
    "# What is the True Normal Human Body Temperature?\n",
    "\n",
    "\n",
    "#### `Exercises:`\n",
    "    \n",
    "In this exercise, you will analyze a dataset of human body temperatures and employ the concepts of hypothesis testing, confidence intervals, and statistical significance.\n",
    "Answer the following questions:\n",
    "##### 1. Is the distribution of body temperatures normal?\n",
    "   > Although this is not a requirement for the Central Limit Theorem to hold (read the introduction on Wikipedia's page about the CLT carefully: \n",
    "       https://en.wikipedia.org/wiki/Central_limit_theorem), it gives us some peace of mind that the population may also be normally distributed if we assume that this sample is representative of the population.\n",
    "       Think about the way you're going to check for the normality of the distribution. Graphical methods are usually used first, but there are also other ways:\n",
    "        https://en.wikipedia.org/wiki/Normality_test                                                                 \n",
    "                                                                              \n",
    "                                                                                 \n",
    "##### 2. Is the sample size large? Are the observations independent?\n",
    "   > Remember that this is a condition for the Central Limit Theorem, and hence the statistical tests we are using, to apply.        \n",
    "        \n",
    "###### 3.Is the true population mean really 98.6 degrees F?\n",
    "   > First, try a bootstrap hypothesis test.Now, let's try frequentist statistical testing. Would you use a one-sample or two-sample test? Why?\n",
    "        In this situation, is it appropriate to use the $t$ or $z$ statistic?\n",
    "        Now try using the other test. How is the result be different? Why?        \n",
    "        \n",
    "##### 4. Draw a small sample of size 10 from the data and repeat both frequentist tests.\n",
    "   > Which one is the correct one to use?\n",
    "        What do you notice? What does this tell you about the difference in application of the $t$ and $z$ statistic?\n",
    "        As in the previous example, try calculating everything using the boostrap approach, as well as the frequentist approach.\n",
    "        Start by computing the margin of error and confidence interval. When calculating the confidence interval, keep in mind that you should use the     appropriate formula for one draw, and not N draws.\n",
    "        \n",
    "##### 5. Is there a significant difference between males and females in normal temperature?\n",
    "   > What testing approach did you use and why?\n",
    "   \n",
    "   \n",
    "\n",
    "\n",
    "    \n",
    "#### `Information and data sources:`\n",
    "\n",
    "> [http://www.amstat.org/publications/jse/jse_data_archive.htm](http://www.amstat.org/publications/jse/jse_data_archive.htm)\n",
    "\n",
    "> [http://www.amstat.org/publications/jse/datasets/normtemp.txt](http://www.amstat.org/publications/jse/datasets/normtemp.txt)\n",
    "\n",
    "> https://en.wikipedia.org/wiki/Central_limit_theorem](https://en.wikipedia.org/wiki/Central_limit_theorem)\n",
    "    \n",
    "> [https://en.wikipedia.org/wiki/Normality_test](https://en.wikipedia.org/wiki/Normality_test)\n",
    "\n",
    "> [Markdown syntax](http://nestacms.com/docs/creating-content/markdown-cheat-sheet)  \n",
    "       \n",
    "    "
   ]
  },
  {
   "cell_type": "code",
   "execution_count": 229,
   "metadata": {},
   "outputs": [
    {
     "name": "stdout",
     "output_type": "stream",
     "text": [
      "   temperature gender  heart_rate\n",
      "0         99.3      F          68\n",
      "1         98.4      F          81\n",
      "2         97.8      M          73\n",
      "(130, 3)\n"
     ]
    }
   ],
   "source": [
    "#Reading the CSV file into a pandas DataFrame\n",
    "df = pd.read_csv(\"human_body_temperature.csv\")\n",
    "\n",
    "# first 3 rows of df\n",
    "print(df.head(3))\n",
    "\n",
    "#Analyzing the dimensionality of the DataFrame\n",
    "print(df.shape)"
   ]
  },
  {
   "cell_type": "markdown",
   "metadata": {},
   "source": [
    "### Solution:\n",
    "\n",
    "The data we have was first conceptualized and reported by Carl Wunderlich in a famous 1868 book where the mean normal body temperature was held\n",
    "to be 37 °C or 98.6 °F for more than 120 years. The dataset is already loaded as df. The 3 variables in the df are: Temperature in °F,\n",
    "Heart_rate and Gender. There are 130 rows of data in the dataframe.\n",
    "\n",
    "The focus of our analysis will be on the true normal body temperature. To start with let's plot the distribution of the body temperatures and heart rates of the dataframe(df) which happens to be the numeric columns of the dataframe. The default number bins of matplotlib histogram plot is 10 bins. The \"square root rule\" is a commonly-used rule of thumb for choosing number of bins as below: "
   ]
  },
  {
   "cell_type": "code",
   "execution_count": 230,
   "metadata": {},
   "outputs": [
    {
     "data": {
      "image/png": "[encoded data removed]",
      "text/plain": [
       "<Figure size 432x288 with 1 Axes>"
      ]
     },
     "metadata": {
      "needs_background": "light"
     },
     "output_type": "display_data"
    }
   ],
   "source": [
    "#Choose the number of bins to be the square root of the number of samples.Plot the histogram of  temperature.\n",
    "\n",
    "# Compute number of data points: n_data\n",
    "n_data = len(df['temperature'])\n",
    "\n",
    "# Number of bins is the square root of number of data points: n_bins\n",
    "\n",
    "n_bins = np.sqrt(n_data)\n",
    "# Convert number of bins to integer: n_bins\n",
    "n_bins = int(n_bins)\n",
    "\n",
    "# Plot the histogram\n",
    "_ = plt.hist(df['temperature'], bins = n_bins)\n",
    "\n",
    "# Label axes\n",
    "_ = plt.xlabel('Temperature(°F)')\n",
    "_ = plt.ylabel('frequency')\n",
    "\n",
    "# Show histogram\n",
    "plt.show()"
   ]
  },
  {
   "cell_type": "code",
   "execution_count": 231,
   "metadata": {},
   "outputs": [
    {
     "data": {
      "image/png": "[encoded data removed]",
      "text/plain": [
       "<Figure size 432x288 with 1 Axes>"
      ]
     },
     "metadata": {
      "needs_background": "light"
     },
     "output_type": "display_data"
    }
   ],
   "source": [
    "\n",
    "#Plot the histogram of  heart_rate.\n",
    "\n",
    "# Compute number of data points: n_data\n",
    "n_data = len(df['heart_rate'])\n",
    "\n",
    "# Number of bins is the square root of number of data points: n_bins\n",
    "\n",
    "n_bins = np.sqrt(n_data)\n",
    "# Convert number of bins to integer: n_bins\n",
    "n_bins = int(n_bins)\n",
    "\n",
    "# Plot the histogram\n",
    "_ = plt.hist(df['heart_rate'], bins = n_bins)\n",
    "\n",
    "# Label axes\n",
    "_ = plt.xlabel('Heart Rate(per minute)')\n",
    "_ = plt.ylabel('frequency')\n",
    "\n",
    "# Show histogram\n",
    "plt.show()"
   ]
  },
  {
   "cell_type": "markdown",
   "metadata": {},
   "source": [
    "There is nothing alarming in either histograms. As a sanity check, let's see if there are roughly the same number of females and males in each gender group."
   ]
  },
  {
   "cell_type": "code",
   "execution_count": 232,
   "metadata": {},
   "outputs": [
    {
     "data": {
      "text/plain": [
       "F    65\n",
       "M    65\n",
       "Name: gender, dtype: int64"
      ]
     },
     "execution_count": 232,
     "metadata": {},
     "output_type": "execute_result"
    }
   ],
   "source": [
    "# Counting the number of people in gender group\n",
    "\n",
    "df.gender.value_counts()"
   ]
  },
  {
   "cell_type": "code",
   "execution_count": 233,
   "metadata": {},
   "outputs": [
    {
     "data": {
      "text/html": [
       "<div>\n",
       "<style scoped>\n",
       "    .dataframe tbody tr th:only-of-type {\n",
       "        vertical-align: middle;\n",
       "    }\n",
       "\n",
       "    .dataframe tbody tr th {\n",
       "        vertical-align: top;\n",
       "    }\n",
       "\n",
       "    .dataframe thead th {\n",
       "        text-align: right;\n",
       "    }\n",
       "</style>\n",
       "<table border=\"1\" class=\"dataframe\">\n",
       "  <thead>\n",
       "    <tr style=\"text-align: right;\">\n",
       "      <th></th>\n",
       "      <th>temperature</th>\n",
       "      <th>heart_rate</th>\n",
       "    </tr>\n",
       "  </thead>\n",
       "  <tbody>\n",
       "    <tr>\n",
       "      <th>count</th>\n",
       "      <td>130.000000</td>\n",
       "      <td>130.000000</td>\n",
       "    </tr>\n",
       "    <tr>\n",
       "      <th>mean</th>\n",
       "      <td>98.249231</td>\n",
       "      <td>73.761538</td>\n",
       "    </tr>\n",
       "    <tr>\n",
       "      <th>std</th>\n",
       "      <td>0.733183</td>\n",
       "      <td>7.062077</td>\n",
       "    </tr>\n",
       "    <tr>\n",
       "      <th>min</th>\n",
       "      <td>96.300000</td>\n",
       "      <td>57.000000</td>\n",
       "    </tr>\n",
       "    <tr>\n",
       "      <th>25%</th>\n",
       "      <td>97.800000</td>\n",
       "      <td>69.000000</td>\n",
       "    </tr>\n",
       "    <tr>\n",
       "      <th>50%</th>\n",
       "      <td>98.300000</td>\n",
       "      <td>74.000000</td>\n",
       "    </tr>\n",
       "    <tr>\n",
       "      <th>75%</th>\n",
       "      <td>98.700000</td>\n",
       "      <td>79.000000</td>\n",
       "    </tr>\n",
       "    <tr>\n",
       "      <th>max</th>\n",
       "      <td>100.800000</td>\n",
       "      <td>89.000000</td>\n",
       "    </tr>\n",
       "  </tbody>\n",
       "</table>\n",
       "</div>"
      ],
      "text/plain": [
       "       temperature  heart_rate\n",
       "count   130.000000  130.000000\n",
       "mean     98.249231   73.761538\n",
       "std       0.733183    7.062077\n",
       "min      96.300000   57.000000\n",
       "25%      97.800000   69.000000\n",
       "50%      98.300000   74.000000\n",
       "75%      98.700000   79.000000\n",
       "max     100.800000   89.000000"
      ]
     },
     "execution_count": 233,
     "metadata": {},
     "output_type": "execute_result"
    }
   ],
   "source": [
    "#Descriptive or summary statistics in python – pandas, can be obtained by using describe function – describe()\n",
    "df.describe()"
   ]
  },
  {
   "cell_type": "markdown",
   "metadata": {},
   "source": [
    "It looks like there is roughly the same number of people in each gender group, Nice! Now, coming back to the questions, Is this distribution normal?\n",
    "Let's find out!"
   ]
  },
  {
   "cell_type": "markdown",
   "metadata": {},
   "source": [
    "## Question 1: Is the distribution of body temperatures normal?\n",
    "\n",
    "#### Solution:\n",
    "A normal distribution has some interesting properties: it has a bell shape, the mean and median are equal, and 68% of the data falls within 1 standard deviation.\n",
    "The histograms plotted above roughly looks like it has a bell shape. The mean and median which is the 50th percentile calculated from df.describe() function are approximately  equal. When we perform a normal test from the scipy library, a large p-value (> 0.05) indicates weak evidence against the null hypothesis, so you fail to reject the null hypothesis. Let's find out!"
   ]
  },
  {
   "cell_type": "code",
   "execution_count": 234,
   "metadata": {},
   "outputs": [
    {
     "data": {
      "image/png": "[encoded data removed]",
      "text/plain": [
       "<Figure size 432x288 with 1 Axes>"
      ]
     },
     "metadata": {
      "needs_background": "light"
     },
     "output_type": "display_data"
    },
    {
     "data": {
      "text/plain": [
       "NormaltestResult(statistic=2.703801433319203, pvalue=0.2587479863488254)"
      ]
     },
     "execution_count": 234,
     "metadata": {},
     "output_type": "execute_result"
    }
   ],
   "source": [
    "#The X axis represent the random variable and Y axis represent the probability of observing each value. You can see the tip of the bell curve is at 5 (mid way between 4 and 6) which is the mean.\n",
    "mu, sigma = 98.249231, 0.733183\n",
    "s = np.random.normal(mu, sigma, 1000)\n",
    "# Compute number of data points: n_data\n",
    "n_data = len(df['temperature'])\n",
    "\n",
    "# Number of bins is the square root of number of data points: n_bins\n",
    "\n",
    "n_bins = np.sqrt(n_data)\n",
    "# Convert number of bins to integer: n_bins\n",
    "n_bins = int(n_bins)\n",
    "\n",
    "\n",
    "# Create the bins and histogram\n",
    "count, bins, ignored = plt.hist(s, n_bins, density=True)\n",
    "\n",
    "\n",
    "# Plot the distribution curve\n",
    "plt.plot(bins, 1/(sigma * np.sqrt(2 * np.pi)) *\n",
    "    np.exp( - (bins - mu)**2 / (2 * sigma**2) ),       linewidth=3, color='y')\n",
    "\n",
    "# Label axes\n",
    "plt.xlabel('Temperature(°F)')\n",
    "plt.ylabel('frequency')\n",
    "plt.show()\n",
    "\n",
    "#perform a normal test from the scipy library\n",
    "stats.normaltest(df.temperature)"
   ]
  },
  {
   "cell_type": "markdown",
   "metadata": {},
   "source": [
    "As seen in the plot above, more than 68% of the data falls within 1 standard deviation from the mean of 98.24923. When we performed a normal test from the scipy library, p-value we got is about 0.25, which means this test does not reject the null hypothesis that this sample data is normally \n",
    "distributed. So we can assume that the body temperature data is normally distributed. In the visualization below, our set of values, normal_distr_values is plotted against a perfectly normal distribution. "
   ]
  },
  {
   "cell_type": "code",
   "execution_count": 235,
   "metadata": {},
   "outputs": [
    {
     "name": "stdout",
     "output_type": "stream",
     "text": [
      "The sample mean is:  98.24923076923078\n",
      "The sample standard deviation is:  0.7303577789050377\n",
      "We expect to see roughly 68% of the observations below a body temperature value of: 98.97958854813581  and observed is:98.6 \n",
      "We expect to see roughly 95% of the observations below a body temperature value of:  99.68073201588466 and observed is: 99.3\n"
     ]
    },
    {
     "data": {
      "image/png": "[encoded data removed]",
      "text/plain": [
       "<Figure size 432x288 with 1 Axes>"
      ]
     },
     "metadata": {
      "needs_background": "light"
     },
     "output_type": "display_data"
    }
   ],
   "source": [
    "\"\"\" First let's define a function(ecdf) to calculate the \"Empirical Cumulative Distribution function\". An ECDF is an estimator of the Cumulative Distribution Function. The x- value of the ecdf is the quantity we are measuring. The y-value of ECDF is the fraction of datapoints smaller than the corresponding x-value.The x-values are the sorted data. Use the np.sort() function to perform the sorting\n",
    "The y data of the ECDF go from 1/n to 1 in equally spaced increments. You can construct this using np.arange(). Remember, however, that the end \n",
    "  value in np.arange() is not inclusive. Therefore, np.arange() will need to go from 1 to n+1. Be sure to divide this by n.\"\"\"\n",
    "\n",
    "def ecdf(data):\n",
    "    \"\"\"Compute ECDF for a one-dimensional array of measurements.\"\"\"\n",
    "    # Number of data points: n\n",
    "    n = len(data)\n",
    "\n",
    "    # x-data for the ECDF: x\n",
    "    x = np.sort(data)\n",
    "\n",
    "    # y-data for the ECDF: yThe y data of the ECDF go from 1/n to 1 in equally spaced increments. You can construct this using np.arange().\n",
    "    #Remember, however, that the end value in np.arange() is not inclusive. Therefore, np.arange() will need to go from 1 to n+1.\n",
    "    # Be sure to divide this by n.\n",
    "    y = np.arange(1,n+1) / n\n",
    "\n",
    "    return x, y\n",
    "\n",
    "\n",
    "#Get the sample mean and std\n",
    "mean = np.mean(df.temperature)\n",
    "std  = np.std(df.temperature)\n",
    "\n",
    "\n",
    "print('The sample mean is: ', mean)\n",
    "print('The sample standard deviation is: ', std)\n",
    "\n",
    "obs_percentile = np.percentile(df['temperature'], [68,95])\n",
    "\n",
    "print(f'We expect to see roughly 68% of the observations below a body temperature value of: {mean + std}  and observed is:{obs_percentile[0]} ' )\n",
    "print(f'We expect to see roughly 95% of the observations below a body temperature value of:  {(mean + (1.96*std))} and observed is: {obs_percentile[1]}')\n",
    "\n",
    "\n",
    "\n",
    "# Sample the normal dist given our sample mean/std\n",
    "normal = np.random.normal(mean, std, 10000)\n",
    "\n",
    "# Get the CDF of the sample and theoretical distributions\n",
    "x, y = ecdf(df.temperature)\n",
    "x_norm, y_norm = ecdf(normal)\n",
    "\n",
    "# Plot it all'\n",
    "plt.plot(x_norm, y_norm, color = 'blue',label = 'Perfectly normal')\n",
    "plt.plot(x, y, marker='.', ls='none',color= 'red', label = 'empirical measure')\n",
    "plt.xlabel('Temperature')\n",
    "plt.ylabel('ECDF')\n",
    "plt.legend(loc = 'lower right')\n",
    "plt.show()\n",
    "\n",
    "\n"
   ]
  },
  {
   "cell_type": "markdown",
   "metadata": {},
   "source": [
    "The blue curve, which asymptotically approaches heights of 0 and 1  is the true cumulative distribution function of the standard normal distribution.The CDF is a theoretical construct - it is what you would see if you could take infinitely many samples. The red dots form the empirical distribution function of that sample.The sample ECDF seems to follow its expected true cumulative distribution function of the standard normal distribution.The empirical CDF approximates the theoretical CDF quite well. It is definitely safe to say that the body temperature is normally distributed."
   ]
  },
  {
   "cell_type": "markdown",
   "metadata": {},
   "source": [
    "## Question 2. Is the sample size large? Are the observations independent?\n",
    "\n",
    "#### Solution:\n",
    "The sample size of 130 observations is a tiny fraction of the population of all humans beings, but it is large enough for the Central Limit Theorem to apply, As a rule of thumb,to perform any parametric tests that assume a normal distribution, usually sample sizes >=30 is required. We already know using df.shape function that  there are 130 observations in this dataset which is larger than the usual threshold of 30.\n",
    "Two observations are said to be independent if the occurrence of one observation provides no information about the occurrence of the other observation.  Based on the story of the Exponential distribution, the plot where the typical shape of the Exponential distribution, going from a maximum at 0 and decaying to the right  helps us to to verify that the observed data are Exponentially distributed which  suggests that they are a random process; where a temperature of one person doesn't affect the temperature of the other person. Let's find out! "
   ]
  },
  {
   "cell_type": "code",
   "execution_count": 236,
   "metadata": {},
   "outputs": [
    {
     "data": {
      "image/png": "[encoded data removed]",
      "text/plain": [
       "<Figure size 432x288 with 1 Axes>"
      ]
     },
     "metadata": {
      "needs_background": "light"
     },
     "output_type": "display_data"
    }
   ],
   "source": [
    "#Setting a variable\n",
    "temperature = df['temperature']\n",
    "\n",
    "# Compute mean temperature: tau\n",
    "tau = np.mean(temperature)\n",
    "\n",
    "# Draw out of an exponential distribution with parameter tau:\n",
    "temperature_exp = np.random.exponential(tau, 100000)\n",
    "\n",
    "# Plot the PDF and label axes\n",
    "_ = plt.hist(temperature_exp,\n",
    "             bins=50, density=True,histtype='step')\n",
    "_ = plt.xlabel('temperature_exp ')\n",
    "_ = plt.ylabel('PDF')\n",
    "\n",
    "# Show the plot\n",
    "plt.show()\n"
   ]
  },
  {
   "cell_type": "markdown",
   "metadata": {},
   "source": [
    "We see the typical shape of the Exponential distribution, going from a maximum at 0 and decaying to the right. The plot above helps us to to verify that the observed data are Exponentially distributed which suggests that they are a random process; where the temperature of one person doesn't affect the temperature of the other person. The observations are also assumed to be independent since we are assuming the data gathered are all from different people when the experiment was conducted.\n"
   ]
  },
  {
   "cell_type": "markdown",
   "metadata": {},
   "source": [
    "## Question 3. Is the true population mean really 98.6 degrees F?\n",
    "    1. First, try a bootstrap hypothesis test.\n",
    "    2. Now, let's try frequentist statistical testing. Would you use a one-sample or two-sample test? \n",
    "    3. In this situation, is it appropriate to use the t or z statistic?\n",
    "    4. Now try using the other test. How is the result be different? Why?\n",
    "\n",
    "#### Solution:\n",
    "The null hypothesis in this exercise states that the true population mean is really 98.6°F. ALternate hypothesis is that it's not 98.6°F. Since we are testing a sample set of data against the population mean (a single value), we should use a one-sample test.\n",
    "\n",
    " \n",
    "$ t $ or $ Z $ statistic?\n",
    "I would use t-test over z-test statistic since the population variance is not known or given and also, there is enough data and it is normally distributed.\n"
   ]
  },
  {
   "cell_type": "markdown",
   "metadata": {},
   "source": [
    "\n",
    " In a bootstrap hypothesis approach, we are going build the distribution of the test statistic through resampling as below:\n",
    "                                                                               "
   ]
  },
  {
   "cell_type": "code",
   "execution_count": 237,
   "metadata": {},
   "outputs": [
    {
     "name": "stdout",
     "output_type": "stream",
     "text": [
      "95% confidence interval: 98.123 - 98.375\n",
      "margin of error: +/-0.12627\n",
      "p-value: 0.0\n",
      "Since pval<0.05, reject Null Hypothesis\n"
     ]
    }
   ],
   "source": [
    "\"\"\"Bootstrap approach: \"\"\"\n",
    "\n",
    "size = 100000\n",
    "bs_replicates = np.empty(size)\n",
    "for i in range(size):\n",
    "    bs_replicates[i] = np.mean(np.random.choice(df['temperature'], len(temperature)))\n",
    "\n",
    "    \n",
    "    \n",
    "# Compute fraction of replicates that are equal to the 98.6\n",
    "\n",
    "p = np.sum(bs_replicates == 98.6) / size\n",
    "\n",
    "ci_low, ci_high = np.percentile(bs_replicates, [2.5, 97.5])\n",
    "print('95% confidence interval: {:0.5} - {:0.5}'.format(ci_low, ci_high))\n",
    "print('margin of error: +/-{:0.5}'.format((ci_high - np.mean(bs_replicates))))\n",
    "\n",
    "print('p-value: {}'.format(p))\n",
    "\n",
    "if p < 0.05:\n",
    "    print(\"Since pval<0.05, reject Null Hypothesis\")\n",
    "else:\n",
    "    print(\"Accept null hypothesis\")"
   ]
  },
  {
   "cell_type": "markdown",
   "metadata": {},
   "source": [
    "The low p-value suggests that the null hypothesis that  the true population mean is really 98.6°F is false. "
   ]
  },
  {
   "cell_type": "code",
   "execution_count": 238,
   "metadata": {},
   "outputs": [
    {
     "name": "stdout",
     "output_type": "stream",
     "text": [
      "The mean of temperatures for this sample is : 98.24923076923078\n",
      "The standard deviation of temperatures for the sample size of 10 is : 0.7303577789050377\n",
      "The length  for the sample size is : 130\n",
      "The standard error for this sample size of 10 is : 0.06405661469519336\n",
      "T score :1.9785244914586055\n",
      "95% confidence interval: (98.12, 98.38)\n",
      "μ0 = 98.6\n",
      "margin of error: +/-0.35077\n",
      "The t-statistic is -5.476 and the p-value is 0.0000002\n",
      "Since pval<0.05, reject Null Hypothesis\n"
     ]
    }
   ],
   "source": [
    "#Frequentist Approach for sample of  temperatures:\n",
    "# (5 % confidence interval for one draw\n",
    "\n",
    "temperature = df['temperature']\n",
    "sample_mean = np.mean(temperature)\n",
    "print(f\"The mean of temperatures for this sample is : {sample_mean}\" )\n",
    "\n",
    "sample_std = np.std(temperature)\n",
    "print(f\"The standard deviation of temperatures for the sample size of 10 is : {sample_std}\" )\n",
    "\n",
    "n = len(temperature)\n",
    "print(f\"The length  for the sample size is : {n}\" )\n",
    "\n",
    "se = sample_std/np.sqrt(n)\n",
    "print(f\"The standard error for this sample size of 10 is : {se}\" )\n",
    "\n",
    "'''The level of significance for this sample with 95% confidence is 0.025'''\n",
    "\n",
    "\"\"\"The T-Value based on the significance level and the degrees of freedom in the standard deviation is +/-1.978524 using\n",
    "online calculator: https://goodcalculators.com/student-t-value-calculator/\"\"\"\n",
    "\n",
    "# Calculate the t value for alpha 0.025 and df 129\n",
    "\n",
    "crit = stats.t.isf(0.025, n-1)\n",
    "print(f\"T score :{crit}\")\n",
    "\n",
    "conf_int_95 = [sample_mean - crit*se, sample_mean + crit*se]\n",
    "print(\"95% confidence interval: ({:2.2f}, {:2.2f})\".format(conf_int_95[0],conf_int_95[1]))\n",
    " \n",
    "print(\"μ0 = 98.6\")\n",
    "\n",
    "#Calculate the t test statistic\n",
    "\n",
    "t_stat = (sample_mean - 98.6)/se\n",
    "print('margin of error: +/-{:0.5}'.format((np.abs(t_stat)  * se)))\n",
    "\n",
    "p_value = stats.t.sf(np.abs(t_stat), n-1)*2\n",
    "print(\"The t-statistic is {:1.3f} and the p-value is {:1.7f}\".format(t_stat, p_value))\n",
    "\n",
    "if p_value < 0.05:\n",
    "    print(\"Since pval<0.05, reject Null Hypothesis\")\n",
    "else:\n",
    "    print(\"Accept null hypothesis\")\n"
   ]
  },
  {
   "cell_type": "markdown",
   "metadata": {},
   "source": [
    "Frequentist inference is a type of statistical inference that draws conclusions from sample data by emphasizing the frequency or proportion of the data as  explained below:"
   ]
  },
  {
   "cell_type": "markdown",
   "metadata": {},
   "source": [
    "Frequentist statistical testing:\n",
    "\n",
    "To test the null hypothesis, we compute the t score using the following formula:\n",
    "\n",
    "$ t \\,score \\,= \\frac{\\bar x - \\,m}{\\,s/(np.sqrt(n)} $\n",
    "\n",
    "where t is the value we compute for the significance test,\n",
    "\n",
    "$ x̄ $ = sample mean,\n",
    "\n",
    "$ m $= is the hypothesized value of the population mean,\n",
    "\n",
    "$ s $ = sample standard deviation,\n",
    "\n",
    "$ n $ = sample size\n",
    "\n",
    "\n",
    "The sample standard deviation $ s $ of the n = 130 temperature scores is np.std(df['temperature']= 0.733, the hypothesized value of $ m  $ is 98.6. The x̄ (sample mean) is computed as: np.sum(df['temperature'])/130 which comes to 98.25. Therefore, t can be computed as below:\n",
    "\n",
    "$ t = (98.25-98.6)/(0.733/np.sqrt(130))  = -5.44 $\n",
    "\n",
    "$\\,degrees \\,of \\,freedom \\,= \\,(130 - 1) \\,= \\,129$\n",
    "\n",
    "If we want to be 95 percent confident that our analysis is correct, the Alpha Level (Significance Level) would be 1 – .95 = 5 percent, for two-tailed tests, divide the alpha level by 2. For a 95% confidence interval & two tailed tests, alpha level would be 0.025.\n",
    "\n",
    "If we want to be 99 percent confident that our analysis is correct, the Alpha Level (Significance Level) would be 1 – .99 = 0.01 percent, for two-tailed tests, divide the alpha level by 2. For a 99% confidence interval & two tailed tests, alpha level would be 0.005‬.\n",
    "\n",
    "Standard error of the statistic =  (sample standard deviation) / (sample size)\n",
    "\n",
    "If s = sample standard deviation and 𝑛 = sample size, then Standard error of the statistic(se) would be:\n",
    " \n",
    "se(standard error) = s/√𝑛\n",
    "\n",
    "When we look up the t- table, T-Value(t) for two-tailed with degrees of freedom(129) and 95% confidence is : +/- 1.978524.\n",
    "    \n",
    "𝑥̄   = sample mean.\n",
    "\n",
    "The confidence interval can be calculated using the formula below:\n",
    "\n",
    "Confidendence_interval_upper_limit = 𝑥¯+ t*se\n",
    "\n",
    "Confidendence_interval_lower_limit 𝑥¯- t*se\n",
    "\n",
    "\n",
    "T-Value (two-tailed) is : +/- 1.978524 for degrees of freedom of 129 and alpha level 0.025 when we look up the t-table.\n",
    "                                                                                \n",
    " For the degrees of freedom of 129, and a look-up on a two-tailed t distribution for 95% confidence interval yields the interval between 98.12 and 98.38. The interval says that the plausible values for the true mean temperature on this sample are in that range. Or in other words, based on the computations, we can say that 95% of the time, the empirical mean of temperatures  𝑥̄   that we calculate is below that upper limit of 98.38°F, and above that lower limit of 98.12°F.\n",
    "\n",
    "\n",
    "Margin of error can be calculated as below:\n",
    "\n",
    "Margin of error = Critical value * Standard error of the statistic\n",
    "\n",
    "Critical value here is the t-statistic that we computed in the above section\n",
    "\n",
    "p-value = The probability of getting the sample data or more extreme, if the null hypothesis is really true.  \n",
    "\n",
    "Our test statistic is t = -5.44 and assuming the conditions of inference have been met, a look-up on a two-tailed t distribution table finds the The p-value to be 0.0000002 which is less than 0.05. Therefore, we can reject the null hypothesis."
   ]
  },
  {
   "cell_type": "markdown",
   "metadata": {},
   "source": [
    "The p-value in z-test indicates that the null hypothesis should be rejected similar to t-test. It is extremely unlikely that the population mean temperature is as high as 98.6°F."
   ]
  },
  {
   "cell_type": "markdown",
   "metadata": {},
   "source": [
    "#### Question 4: Draw a small sample of size 10 from the data and repeat both tests.\n",
    "\n",
    "    Which one is the correct one to use?    \n",
    "    What do you notice? What does this tell you about the difference in application of the t and z statistic?\n",
    "    As in the previous example, try calculating everything using the boostrap approach, as well as the frequentist approach.\n",
    "    Start by computing the margin of error and confidence interval. When calculating the confidence interval, keep in mind that you\n",
    "    should use the appropriate formula for one draw, and not N draws.\n",
    "    \n",
    "##### Solution:\n",
    "Again, since the population standard deviation is unknown, and also sample size(n) is 10, the t-test is the better option here."
   ]
  },
  {
   "cell_type": "code",
   "execution_count": 239,
   "metadata": {},
   "outputs": [
    {
     "name": "stdout",
     "output_type": "stream",
     "text": [
      "t-score: -1.07747\n",
      "p-value of t test: 0.3093\n",
      "Since pval is -1.077>0.05 for Z test statistic of -1.077,  we accept Null Hypothesis\n",
      "Z-score: -1.077\n",
      "p-value of z-test: 0.281\n",
      "Since pval is 0.281>0.05 for Z test statistic of -1.077, we accept Null Hypothesis\n"
     ]
    }
   ],
   "source": [
    "np.random.seed(7)\n",
    "# Draw a sample of 10\n",
    "sample_temperature = np.random.choice(temperature, size=10)\n",
    "t_stat = stats.ttest_1samp(sample_temperature, 98.6)\n",
    "print('t-score: {}\\np-value of t test: {}'.format(round(t_stat.statistic, 5), round(t_stat.pvalue, 5)))\n",
    "if t_stat.pvalue < 0.05:\n",
    "    print(f\"Since pval is {round(t_stat.statistic,3)}<0.05 for t test statistic of {round(t_stat.statistic,3)}, we reject Null Hypothesis\")\n",
    "else:\n",
    "    print(f\"Since pval is {round(t_stat.statistic, 3)}>0.05 for Z test statistic of {round(t_stat.statistic,3)},  we accept Null Hypothesis\")\n",
    "\n",
    "ztest ,pval = rs_zscore, rs_z_pval = ztest(sample_temperature,value=98.6)\n",
    "print(f'Z-score: {round(ztest,3)}\\np-value of z-test: {round(pval,3)}')\n",
    "if pval<0.05:\n",
    "    print(f\"Since pval is {pval}<0.05 for Z test statistic of {ztest},we reject Null Hypothesis\")\n",
    "else:\n",
    "    print(f\"Since pval is {round(pval, 3)}>0.05 for Z test statistic of {round(ztest,3)}, we accept Null Hypothesis\")"
   ]
  },
  {
   "cell_type": "markdown",
   "metadata": {},
   "source": [
    "The p-value is greater than 0.05, so the null hypothesis cannot be rejected on the basis of this small sample t-test.\n",
    "\n"
   ]
  },
  {
   "cell_type": "markdown",
   "metadata": {},
   "source": [
    "#### At what temperature should we consider someone's temperature to be \"abnormal\"?"
   ]
  },
  {
   "cell_type": "code",
   "execution_count": 240,
   "metadata": {},
   "outputs": [
    {
     "name": "stdout",
     "output_type": "stream",
     "text": [
      "95% confidence interval: (98.12, 98.38)\n",
      "99% confidence interval: (98.08, 98.42)\n"
     ]
    }
   ],
   "source": [
    "# Construct a 95% confidence interval for the sample mean\n",
    "temp_mean = np.mean(temperature)\n",
    "se = np.std(temperature)/np.sqrt(len(temperature))\n",
    "crit = stats.t.isf([0.025,0.005], n-1)\n",
    "conf_int_95 = [temp_mean - crit[0]*se, temp_mean + crit[0]*se]\n",
    "print(\"95% confidence interval: ({:2.2f}, {:2.2f})\".format(conf_int_95[0],conf_int_95[1]))\n",
    "\n",
    "# Construct a 99% confidence interval for the sample mean\n",
    "conf_int_99 = [temp_mean - crit[1]*se, temp_mean + crit[1]*se]\n",
    "print(\"99% confidence interval: ({:2.2f}, {:2.2f})\".format(conf_int_99[0],conf_int_99[1]))"
   ]
  },
  {
   "cell_type": "raw",
   "metadata": {},
   "source": [
    "We can say that 95% of the time the true average temperature will fall between 98.10 and 98.39. In a wider confidence interval, there is 99% chance that the true mean temperature will be between 98.04 and 98.46. Given our confidence interval, we would consider someone's body temperature lower than ~98.08°F or higher than ~98.45°F to be considered abnormal."
   ]
  },
  {
   "cell_type": "markdown",
   "metadata": {},
   "source": [
    "#### Q6) Is there a significant difference between males and females in normal temperature?\n",
    "    What test did you use and why?\n",
    "    \n",
    "###### Solution:\n",
    "To do this analysis, we can use the two-sample test of the difference in means. The null hypothesis is that the average temperature for males and females are the same. At the 95% confidence level, our hypothesis test would be:\n",
    "\n",
    "*(Null Hypothesis) Ho: Normal Male temperature = Normal Female Temperature\n",
    "\n",
    "*(Alternative Hypothesis) Ha: Normal Male temperature ≠ Normal Female Temperature\n",
    "\n",
    "Let's find out!\n",
    "    \n"
   ]
  },
  {
   "cell_type": "code",
   "execution_count": 241,
   "metadata": {},
   "outputs": [
    {
     "data": {
      "image/png": "[encoded data removed]",
      "text/plain": [
       "<Figure size 432x288 with 1 Axes>"
      ]
     },
     "metadata": {
      "needs_background": "light"
     },
     "output_type": "display_data"
    }
   ],
   "source": [
    "males = df['temperature'][df.gender=='M']\n",
    "females = df['temperature'][df.gender=='F']\n",
    "# Compute ECDFs\n",
    "x_m, y_m = ecdf(males)\n",
    "x_f, y_f = ecdf(females)\n",
    "\n",
    "\n",
    "# Plot the ECDFs\n",
    "_ = plt.plot(x_m, y_m, marker='.', linestyle='none')\n",
    "_ = plt.plot(x_f, y_f, marker='.', linestyle='none')\n",
    "\n",
    "# Set margins\n",
    "plt.margins(0.02)\n",
    "\n",
    "# Get the CDF of the sample and theoretical distributions\n",
    "x, y = ecdf(df.temperature)\n",
    "x_norm, y_norm = ecdf(normal)\n",
    "\n",
    "# Add axis labels and legend\n",
    "_ =plt.plot(x_norm, y_norm, color = 'blue',label = 'Perfectly normal')\n",
    "_ = plt.xlabel('temperature (°F)')\n",
    "_ = plt.ylabel('ECDF')\n",
    "_ = plt.legend(('males', 'females'), loc='lower right')\n",
    "\n",
    "# Show the plot\n",
    "plt.show()\n"
   ]
  },
  {
   "cell_type": "markdown",
   "metadata": {},
   "source": [
    "The differences are much clearer in the ECDF. The mean temperature is larger in the females, and the variance does appear larger as well"
   ]
  },
  {
   "cell_type": "code",
   "execution_count": 242,
   "metadata": {},
   "outputs": [
    {
     "name": "stdout",
     "output_type": "stream",
     "text": [
      "difference of means = -0.289230769230727\n",
      "95% confidence interval = [0.04       0.53538462]\n"
     ]
    }
   ],
   "source": [
    "\"\"\"Parameter(mean) estimates of human body temperature between males and females\"\"\"\n",
    "\n",
    "'''Generating many bootstrap replicates\n",
    "# Now we'll write another function, draw_bs_reps(data, func, size=1), which generates many bootstrap replicates from the data set.\n",
    "Take 10,000 bootstrap replicates of the mean for the male body temperatues using draw_bs_reps() function. Also get 10,000 bootstrap replicates of the mean for\n",
    "the female temperatures.Subtract one from another to get bootstrap replicates of the difference of means.\n",
    "'''\n",
    "\n",
    "def draw_bs_reps(data, func, size=1):\n",
    "    \"\"\"Draw bootstrap replicates.\"\"\"\n",
    "\n",
    "    # Initialize array of replicates: bs_replicates\n",
    "    bs_replicates = np.empty(size)\n",
    "\n",
    "    # Generate replicates\n",
    "    for i in range(size):\n",
    "        bs_replicates[i] = bootstrap_replicate_1d(data, func)\n",
    "\n",
    "    return bs_replicates\n",
    "\n",
    "def bootstrap_replicate_1d(data, func):\n",
    "    return func(np.random.choice(data, size=len(data)))\n",
    "\n",
    "# Compute the difference of the sample means: mean_diff\n",
    "mean_diff = np.mean(males) - np.mean(females)\n",
    "\n",
    "# Get bootstrap replicates of means\n",
    "bs_replicates_m = draw_bs_reps(males, np.mean, 10000)\n",
    "bs_replicates_f = draw_bs_reps(females, np.mean, 10000)\n",
    "\n",
    "# Compute samples of difference of means: bs_diff_replicates\n",
    "bs_diff_replicates = bs_replicates_f - bs_replicates_m\n",
    "\n",
    "#Use the replicates to compute the 95% confidence interval: conf_int\n",
    "conf_int = np.percentile(bs_diff_replicates, [2.5, 97.5])\n",
    "\n",
    "# Print the results\n",
    "print('difference of means =', mean_diff)\n",
    "print('95% confidence interval =', conf_int)\n"
   ]
  },
  {
   "cell_type": "markdown",
   "metadata": {},
   "source": [
    "The hypothesis is that the means are equal. To perform this hypothesis test, we need to shift the two data sets so that they have the same mean and then use bootstrap sampling to compute the difference of means.Compute mean of combined data set: combined_mean, as below:"
   ]
  },
  {
   "cell_type": "code",
   "execution_count": 243,
   "metadata": {},
   "outputs": [
    {
     "name": "stdout",
     "output_type": "stream",
     "text": [
      "p = 0.0\n",
      "Since p-vale < 0.05, we reject Null Hypothesis with 95 % confidence\n"
     ]
    }
   ],
   "source": [
    "# Compute mean of combined data set: combined_mean\n",
    "combined_mean = np.mean(np.concatenate((males, females)))\n",
    "\n",
    "# Shift the samples\n",
    "tm_shifted = males - np.mean(males) + combined_mean\n",
    "tf_shifted = females - np.mean(females) + combined_mean\n",
    "\n",
    "# Get bootstrap replicates of shifted data sets\n",
    "bs_replicates_ms = draw_bs_reps(tm_shifted , np.mean, 10000)\n",
    "bs_replicates_fs = draw_bs_reps(tf_shifted, np.mean, 10000)\n",
    "\n",
    "# Compute replicates of difference of means: bs_diff_replicates\n",
    "bs_diff_replicates = bs_replicates_fs - bs_replicates_ms\n",
    "\n",
    "# Compute the p-value: p\n",
    "p = np.sum(bs_diff_replicates == mean_diff) / len(bs_diff_replicates)\n",
    "\n",
    "# Print p-value\n",
    "print('p =', p)\n",
    "\n",
    "if p < 0.05:\n",
    "    print(\"Since p-vale < 0.05, we reject Null Hypothesis with 95 % confidence\")\n",
    "else:\n",
    "    print(\"Accept null hypothesis\")"
   ]
  },
  {
   "cell_type": "markdown",
   "metadata": {},
   "source": [
    "### Conclusion:\n",
    "We get a p-value of 0.0001, which suggests that there is a statistically significant difference in the mean temperatures between males and females.\n",
    "But it is very important to know how different they are! We got a difference of 0.29°F  between the means with the 95% confidence interval.\n",
    "The difference seems to be substantial and there might be few situations where women’s core temperature are more clearly a little higher than men’s.\n",
    "\n",
    "The normal human body temperature has been generally accepted as 98.6°F  for a long time, but the dataset here shows that the mean body temperature from a sample of 130 subjects to be about 98.2°F . Using the sample t-test to determine whether the true body temperature is 98.6°F  or not, and we got a p-value less than 0.001, rendering evidence to reject the hypothesis with 95% confidence. "
   ]
  }
 ],
 "metadata": {
  "kernelspec": {
   "display_name": "Python 3",
   "language": "python",
   "name": "python3"
  },
  "language_info": {
   "codemirror_mode": {
    "name": "ipython",
    "version": 3
   },
   "file_extension": ".py",
   "mimetype": "text/x-python",
   "name": "python",
   "nbconvert_exporter": "python",
   "pygments_lexer": "ipython3",
   "version": "3.7.3"
  }
 },
 "nbformat": 4,
 "nbformat_minor": 2
}
