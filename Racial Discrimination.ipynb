{
 "cells": [
  {
   "cell_type": "code",
   "execution_count": 1,
   "metadata": {},
   "outputs": [],
   "source": [
    "#import all libraries required for this project\n",
    "import json\n",
    "import pandas as pd\n",
    "import numpy as np\n",
    "import matplotlib.pyplot as plt\n",
    "from scipy import stats\n",
    "import seaborn as sns"
   ]
  },
  {
   "cell_type": "markdown",
   "metadata": {},
   "source": [
    "### Background:\n",
    "    Racial discrimination continues to be pervasive in cultures throughout the world. Researchers examined the level of racial\n",
    "    discrimination in the United States labor market by randomly assigning identical rÃ©sumÃ©s to black-sounding or white-sounding names \n",
    "    and observing the impact on requests for interviews from employers.\n",
    "    \n",
    "### Data:\n",
    "\n",
    "    \"In the dataset provided, each row represents a resume. The 'race' column has two values, 'b' and 'w', indicating black-sounding and \n",
    "    white-sounding. The column 'call' has two values, 1 and 0, indicating whether the resume received a call from employers or not.Note\n",
    "    that the 'b' and 'w' values in race are assigned randomly to the resumes when presented to the employer.\n",
    "    \n",
    "    You will perform a statistical analysis to establish whether race has a significant impact on the rate of callbacks for resumes.\n",
    "    \n",
    "    1. What test is appropriate for this problem? Does CLT apply?\n",
    "    \n",
    "    2. What are the null and alternate hypotheses?\n",
    "    \n",
    "    3. Compute margin of error, confidence interval, and p-value. Try using both the bootstrapping and the frequentist \n",
    "       statistical approaches.\n",
    "       \n",
    "    4. Write a story describing the statistical significance in the context or the original problem.\n",
    "    \n",
    "    5. Does your analysis mean that race/name is the most important factor in callback success? Why or why not? If not, how would\n",
    "       you amend your analysis?\n",
    "        \n",
    "    \n",
    "#### Resources:\n",
    "[Markdown syntax:](http://nestacms.com/docs/creating-content/markdown-cheat-sheet)\n",
    "\n",
    "[Experiment information and data source:]( http://www.povertyactionlab.org/evaluation/discrimination-job-market-united-states)\n",
    "\n",
    "[Scipy statistical methods: ](http://docs.scipy.org/doc/scipy/reference/stats.html)\n",
    "\n",
    "[Formulas for the Bernoulli distribution: ](https://en.wikipedia.org/wiki/Bernoulli_distribution)"
   ]
  },
  {
   "cell_type": "code",
   "execution_count": 14,
   "metadata": {},
   "outputs": [],
   "source": [
    "#First, let's expore the data:\n",
    "#data = pd.io.stata.read_stata('C:/Users//EDA_racial_discrimination/data/us_job_market_discrimination.dta')"
   ]
  },
  {
   "cell_type": "code",
   "execution_count": 4,
   "metadata": {},
   "outputs": [
    {
     "data": {
      "text/html": [
       "<div>\n",
       "<style scoped>\n",
       "    .dataframe tbody tr th:only-of-type {\n",
       "        vertical-align: middle;\n",
       "    }\n",
       "\n",
       "    .dataframe tbody tr th {\n",
       "        vertical-align: top;\n",
       "    }\n",
       "\n",
       "    .dataframe thead th {\n",
       "        text-align: right;\n",
       "    }\n",
       "</style>\n",
       "<table border=\"1\" class=\"dataframe\">\n",
       "  <thead>\n",
       "    <tr style=\"text-align: right;\">\n",
       "      <th></th>\n",
       "      <th>id</th>\n",
       "      <th>ad</th>\n",
       "      <th>education</th>\n",
       "      <th>ofjobs</th>\n",
       "      <th>yearsexp</th>\n",
       "      <th>honors</th>\n",
       "      <th>volunteer</th>\n",
       "      <th>military</th>\n",
       "      <th>empholes</th>\n",
       "      <th>occupspecific</th>\n",
       "      <th>...</th>\n",
       "      <th>compreq</th>\n",
       "      <th>orgreq</th>\n",
       "      <th>manuf</th>\n",
       "      <th>transcom</th>\n",
       "      <th>bankreal</th>\n",
       "      <th>trade</th>\n",
       "      <th>busservice</th>\n",
       "      <th>othservice</th>\n",
       "      <th>missind</th>\n",
       "      <th>ownership</th>\n",
       "    </tr>\n",
       "  </thead>\n",
       "  <tbody>\n",
       "    <tr>\n",
       "      <th>0</th>\n",
       "      <td>b</td>\n",
       "      <td>1</td>\n",
       "      <td>4</td>\n",
       "      <td>2</td>\n",
       "      <td>6</td>\n",
       "      <td>0</td>\n",
       "      <td>0</td>\n",
       "      <td>0</td>\n",
       "      <td>1</td>\n",
       "      <td>17</td>\n",
       "      <td>...</td>\n",
       "      <td>1.0</td>\n",
       "      <td>0.0</td>\n",
       "      <td>1.0</td>\n",
       "      <td>0.0</td>\n",
       "      <td>0.0</td>\n",
       "      <td>0.0</td>\n",
       "      <td>0.0</td>\n",
       "      <td>0.0</td>\n",
       "      <td>0.0</td>\n",
       "      <td></td>\n",
       "    </tr>\n",
       "    <tr>\n",
       "      <th>1</th>\n",
       "      <td>b</td>\n",
       "      <td>1</td>\n",
       "      <td>3</td>\n",
       "      <td>3</td>\n",
       "      <td>6</td>\n",
       "      <td>0</td>\n",
       "      <td>1</td>\n",
       "      <td>1</td>\n",
       "      <td>0</td>\n",
       "      <td>316</td>\n",
       "      <td>...</td>\n",
       "      <td>1.0</td>\n",
       "      <td>0.0</td>\n",
       "      <td>1.0</td>\n",
       "      <td>0.0</td>\n",
       "      <td>0.0</td>\n",
       "      <td>0.0</td>\n",
       "      <td>0.0</td>\n",
       "      <td>0.0</td>\n",
       "      <td>0.0</td>\n",
       "      <td></td>\n",
       "    </tr>\n",
       "  </tbody>\n",
       "</table>\n",
       "<p>2 rows × 65 columns</p>\n",
       "</div>"
      ],
      "text/plain": [
       "  id ad  education  ofjobs  yearsexp  honors  volunteer  military  empholes  \\\n",
       "0  b  1          4       2         6       0          0         0         1   \n",
       "1  b  1          3       3         6       0          1         1         0   \n",
       "\n",
       "   occupspecific  ...  compreq  orgreq  manuf  transcom  bankreal trade  \\\n",
       "0             17  ...      1.0     0.0    1.0       0.0       0.0   0.0   \n",
       "1            316  ...      1.0     0.0    1.0       0.0       0.0   0.0   \n",
       "\n",
       "  busservice othservice  missind  ownership  \n",
       "0        0.0        0.0      0.0             \n",
       "1        0.0        0.0      0.0             \n",
       "\n",
       "[2 rows x 65 columns]"
      ]
     },
     "execution_count": 4,
     "metadata": {},
     "output_type": "execute_result"
    }
   ],
   "source": [
    "data.head(2)"
   ]
  },
  {
   "cell_type": "code",
   "execution_count": 5,
   "metadata": {},
   "outputs": [
    {
     "data": {
      "text/plain": [
       "Index(['id', 'ad', 'education', 'ofjobs', 'yearsexp', 'honors', 'volunteer',\n",
       "       'military', 'empholes', 'occupspecific', 'occupbroad', 'workinschool',\n",
       "       'email', 'computerskills', 'specialskills', 'firstname', 'sex', 'race',\n",
       "       'h', 'l', 'call', 'city', 'kind', 'adid', 'fracblack', 'fracwhite',\n",
       "       'lmedhhinc', 'fracdropout', 'fraccolp', 'linc', 'col', 'expminreq',\n",
       "       'schoolreq', 'eoe', 'parent_sales', 'parent_emp', 'branch_sales',\n",
       "       'branch_emp', 'fed', 'fracblack_empzip', 'fracwhite_empzip',\n",
       "       'lmedhhinc_empzip', 'fracdropout_empzip', 'fraccolp_empzip',\n",
       "       'linc_empzip', 'manager', 'supervisor', 'secretary', 'offsupport',\n",
       "       'salesrep', 'retailsales', 'req', 'expreq', 'comreq', 'educreq',\n",
       "       'compreq', 'orgreq', 'manuf', 'transcom', 'bankreal', 'trade',\n",
       "       'busservice', 'othservice', 'missind', 'ownership'],\n",
       "      dtype='object')"
      ]
     },
     "execution_count": 5,
     "metadata": {},
     "output_type": "execute_result"
    }
   ],
   "source": [
    "#Columns:\n",
    "data.columns"
   ]
  },
  {
   "cell_type": "code",
   "execution_count": 6,
   "metadata": {},
   "outputs": [
    {
     "data": {
      "text/plain": [
       "(4870, 65)"
      ]
     },
     "execution_count": 6,
     "metadata": {},
     "output_type": "execute_result"
    }
   ],
   "source": [
    "data.shape"
   ]
  },
  {
   "cell_type": "code",
   "execution_count": 7,
   "metadata": {},
   "outputs": [
    {
     "name": "stdout",
     "output_type": "stream",
     "text": [
      "Number of callbacks for black-sounding names(n_b) :157.0\n",
      "Number of callbacks for white-sounding names(n_w) :235.0\n",
      "Total number of black-sounding names(n1): 2435\n",
      "Total number of white-sounding names(n2): 2435\n",
      "Callback rates for black sounding names(p1*100): 6.447638603696099\n",
      "Callback rates for white-sounding names(p2*100): 9.650924024640657\n"
     ]
    }
   ],
   "source": [
    "#Segregate date based on number of black-sounding names(b) and white-sounding names(w)\n",
    "w = data[data.race=='w']\n",
    "b = data[data.race=='b']\n",
    "\n",
    "# number of callbacks for black-sounding names(n_b)\n",
    "n_b =sum(data[data.race=='b'].call)\n",
    "print(f\"Number of callbacks for black-sounding names(n_b) :{n_b}\")\n",
    "n_w =sum(data[data.race=='w'].call)\n",
    "print(f\"Number of callbacks for white-sounding names(n_w) :{n_w}\")\n",
    "\n",
    "# number of black-sounding names\n",
    "n1 = len(b)\n",
    "print(f\"Total number of black-sounding names(n1): {len(b)}\")\n",
    "# number of white-sounding names\n",
    "n2 = len(w)\n",
    "print(f\"Total number of white-sounding names(n2): {len(w)}\")\n",
    "#proportion  of callback for black-sounding names\n",
    "p1 =  n_b/len(b)\n",
    "print(f\"Callback rates for black sounding names(p1*100): {p1*100}\")   \n",
    "#  proportion of white Callback\n",
    "p2 = n_w/len(w)\n",
    "print(f\"Callback rates for white-sounding names(p2*100): {p2*100}\")  \n"
   ]
  },
  {
   "cell_type": "code",
   "execution_count": 8,
   "metadata": {},
   "outputs": [
    {
     "data": {
      "image/png": "[encoded data removed]",
      "text/plain": [
       "<Figure size 411.875x360 with 1 Axes>"
      ]
     },
     "metadata": {
      "needs_background": "light"
     },
     "output_type": "display_data"
    }
   ],
   "source": [
    "# Let's do the EDA first and make bee swarm\n",
    "#I'll create a row count column that we can use as our y-axis\\n\",\n",
    "df = data.copy()\n",
    "\n",
    "# Make cat plot\n",
    "\n",
    "sns.catplot(y=\"race\", hue=\"call\", kind=\"count\", palette=\"ch:.25\",edgecolor=\".6\", data=df);        \n",
    "            \n",
    "# Label axes\n",
    "_ = plt.xlabel('race')\n",
    "_ = plt.ylabel('count')\n",
    "\n",
    "# Show the plot\n",
    "plt.show()\n"
   ]
  },
  {
   "cell_type": "markdown",
   "metadata": {},
   "source": [
    "It looks from the plot above that whites received more callbacks for their resumes than blacks."
   ]
  },
  {
   "cell_type": "markdown",
   "metadata": {},
   "source": [
    "### Question 1: What test is appropriate for this problem? Does CLT apply?\n",
    "\n",
    "##### Solution:\n",
    "The test method appropriate for this problem is a two-proportion z-test since the test procedure meets the following conditions:\n",
    "\n",
    "1. The sampling method for each population is simple random sampling and the samples are independent: \n",
    "    Black and White sounding names were randomly assigned to similar resumes so they represent a random sample and are independent.\n",
    "2. Each sample includes at least 10 successes and 10 failures.\n",
    "    Callbacks for black-sounding names : 157 successes and 2,278 failures\n",
    "    Callbacks for white-sounding names : 235 successes and 2200 failures\n",
    "3. Each population is at least 20 times as big as its sample\n",
    "     We can assume the population would be definitely  20 times as big as its sample size of 4870 since there are millions of each race in America.\n",
    "\n",
    "\n",
    "*Does CLT apply?*\n",
    "\n",
    "Our proportion is not close to 0 or 1 and n is larger and random, we assume our sample is normally distributed.\n",
    "\n",
    "The Central Limit Theorem(CLT), tells us that if we take the mean of the samples (n) and plot the frequencies of their mean, we get a normal distribution! And as the sample size (n) increases or approaches infinity, we find a normal distribution. The condition also requires that the sample must be sufficiently large (n > 30) and the samples must be independent. Again, we have 4870 rows of data and the sample is sufficiently large. Black and White sounding names were randomly assigned to similar resumes so they represent a random sample and are independent.  Also, We know that it is a Bernoulli distribution since we know that the outcomes of whether the resume received a call from employers or not has two values, 1 and 0. The probability of a failure is labeled as 0 and success is labeled as 1.  The number of successes in a series of Bernoulli trails has a Binomial Distribution. If there are n Bernoulli trials, then the sum of those trials is binomially distributed with parameters n and p where: n =total number of trials ,p = probability of event of interest that occurs on any one trial, \n",
    "size = number of times you want to run this experiment \n",
    "\n",
    "Let's check whether CLT is applicable using  np.random.binomial(n , p , size) function and compare by changing the size as below:"
   ]
  },
  {
   "cell_type": "code",
   "execution_count": 9,
   "metadata": {},
   "outputs": [
    {
     "data": {
      "image/png": "[encoded data removed]",
      "text/plain": [
       "<Figure size 432x288 with 2 Axes>"
      ]
     },
     "metadata": {
      "needs_background": "light"
     },
     "output_type": "display_data"
    }
   ],
   "source": [
    "# First let's take 100 samples out of the binomial distribution: n_defaults\n",
    "n = len(b)\n",
    "plt.subplot(1, 2, 1)\n",
    "n_cb1 = np.random.binomial(n , p1 , size = 100)\n",
    "\n",
    "# Compute bin edges: bins\n",
    "bins = np.arange(0, max(n_cb1) + 1.5) - 0.5\n",
    "\n",
    "# Generate histogram\n",
    "_ = plt.hist(n_cb1, density=True, bins=bins)\n",
    "\n",
    "# Label axes\n",
    "_ = plt.xlabel('Callback rates for black sounding names in 100 trials')\n",
    "_ = plt.ylabel('PMF')\n",
    "\n",
    "plt.subplot(1, 2, 2)\n",
    "plt.subplots_adjust(bottom=0.1, right=1.8, top=0.9)\n",
    "# Now, let's compare it 100000 samples out of the binomial distribution: n_defaults\n",
    "n_cb2 = np.random.binomial(n ,p1 , size = 100000)\n",
    "\n",
    "# Compute bin edges: bins\n",
    "bins = np.arange(0, max(n_cb2) + 1.5) - 0.5\n",
    "\n",
    "# Generate histogram\n",
    "_ = plt.hist(n_cb2, density=True, bins=bins)\n",
    "\n",
    "# Label axes\n",
    "_ = plt.xlabel('Callback rates for black sounding names in 100000 trials')\n",
    "_ = plt.ylabel('PMF')"
   ]
  },
  {
   "cell_type": "markdown",
   "metadata": {},
   "source": [
    "As seen from the plots above, as the sample size increases or approaches infinity, we find a normal distribution which complies with CLT."
   ]
  },
  {
   "cell_type": "markdown",
   "metadata": {},
   "source": [
    "### Question 2: What are the null and alternate hypotheses?\n",
    "\n",
    "##### Solution:\n",
    "The null hypothesis( Ho) states that there is no difference between the two population proportions i.e., the probability of getting a callback is the same for both resumes with  black-sounding names and white-sounding names for a two-tailed test:\n",
    "\n",
    "    Ho: P1 = P2 \n",
    "    \n",
    "    Ha: P1 ≠ P2 \n",
    "\n",
    "\n",
    "\n",
    "If this probability is less than 5% significance level($\\alpha$), we are going to reject the null hypothesis(Ho). If p̂1 & p̂2 are equal, the actual mean of the difference($\\mu$) will be:   $\\mu_{p̂1-p̂2} = 0.$ \n",
    "    \n",
    "Alternate hypothesis is that the probability of getting a callback is not the same for both resumes with black-sounding and white-sounding names\n",
    "    \n",
    "For this analysis, the significance level will be 0.05."
   ]
  },
  {
   "cell_type": "markdown",
   "metadata": {},
   "source": [
    "### Question 3: Compute margin of error, confidence interval, and p-value. Try using both the bootstrapping and the frequentist statistical approaches.\n",
    "\n",
    "##### Solution:\n",
    "\n",
    "#Frequentist approach:\n",
    "\n",
    "For our hypothesis to be true, we are going to figure out the probability of getting the actual difference of black-sounding names callbacks(p1) and white-sounding names callback proportion(p2) given the assumption that our hypothesis is correct.\n",
    "\n",
    "Null Hypothesis: the probability of success (getting a callback) is the same for both resumes with white-sounding names and black-sounding names. \n",
    "\n",
    "\n",
    "i.e Ho 🠚 p(p̂1 -p̂2)= 0\n",
    "\n",
    "Alternate Hypothesis: the probability of success is different for resumes with white-sounding names as it is for those with black-sounding names. \n",
    "\n",
    "i.e Ha 🠚 p(p̂1 -p̂2) != 0\n",
    "\n",
    "\n",
    "First, we calculate the z-score to find how many standard deviations away  from $\\mu_{p1-p2}$ as below:\n",
    "\n",
    "Mean of black-sounding names callbacks($\\mu_1$) will be equal to p1, i,e., $\\mu_1 = p1$\n",
    "\n",
    "Mean of black-sounding names callbacks($\\mu_2$) will be equal to p2, i,e., $\\mu_2 = p2$\n",
    "\n",
    "Variance of the difference of the sampling distribution :$ \\sigma^2$ \\=  $\\hat{\\sigma}_1^2  + \\hat{\\sigma}_2^2 $ \n",
    "\n",
    "Standard deviation of sampling distribution of sampling distribution =  $\\sqrt{\\frac{ p*(1 -p)}{n} + \\frac{ p*(1 -p)}{n}}$ \n",
    "\n",
    "\n",
    "We can calculate the pooled sample proportion (p) and the standard error (SE) from the sample data. Using those measures, we can compute the z-score test statistic (z).\n",
    "\n",
    "p = (p1 * n1 + p2 * n2) / (n1 + n2)\n",
    "\n",
    "SE = sqrt{ p * ( 1 - p ) * [ (1/n1) + (1/n2) ] }\n",
    "\n",
    "\n",
    "z-score  = $\\frac{  𝑥̄-0}{\\sigma_{p1-p2}}$\n",
    "\n",
    "where the formula to calculate margin of error(m) is a little different for proportions as sown below:\n",
    "\n",
    "$\\sigma_{p1-p2}$ = $\\sqrt{\\frac{2p*(1-p)}{n}}$\n",
    "\n",
    "\n",
    "z statistic(z) = (p1 - p2) / SE\n",
    "\n",
    "where p1 is the sample proportion in Callback for black-sounding names, where p2 is the sample proportion in in Callback for white-sounding names, n1 is the size of sample 1(b), and n2 is the size of sample 2(w).\n",
    "\n",
    "\n",
    "\n",
    "The confidence interval can be calculated using the formula below:\n",
    "\n",
    "Confidendence_interval_upper_limit = 𝑥¯+ z*se\n",
    "\n",
    "Confidendence_interval_lower_limit 𝑥¯- z*se\n",
    "\n",
    "where  𝑥̄= sample mean\n",
    "\n",
    "The formula to calculate margin of error(m) is a little different for proportions for 95% confidence intervals:\n",
    "\n",
    "m = (((p*(1-p))/n)**0.5)*1.96\n",
    "\n",
    "\n",
    "Critical value here is the z-statistic that we computed in the above section\n",
    "\n",
    "Since we have a two-tailed test, the P-value is the probability of the rejection region being less than z-statistic or greater than z-score. Thus, the P-value will be 2 times the p-value we got in the result.\n",
    "\n",
    "If p-value is less than 0.05(significance level), we reject the Null Hypothesis. Let's find out!\n"
   ]
  },
  {
   "cell_type": "code",
   "execution_count": 10,
   "metadata": {},
   "outputs": [
    {
     "name": "stdout",
     "output_type": "stream",
     "text": [
      "Pooled sample proportion (p): 0.08049281314168377\n",
      "Standard Error (SE) for the difference between callback rates:: 0.007796894036170457\n",
      "z-score: -4.108412152434346\n",
      " The difference that we got between our sample portions, between black & white-sounding callbacks of 0.05, but that is -4.108412152434346 standard deviations above and below our mean of our sampling distributtions assuming null hypothesis to be true\n",
      "95% confidence interval: (-0.047, -0.017)\n",
      " If our interval(-0.04731448571161482, -0.01675122270727635) does not overlap with 0, which happens to be the assumed mean, we reject the null hypothesis\n",
      "Since we have a two-tailed test, the P-value is the probability of the rejection region being less than -4.11 or greater than 4.11.\n",
      "The p-value for the test of equality of callback rates is: 0.00004\n",
      "margin of error: +/-0.010806\n",
      "Since p-value < 0.05, reject Null Hypothesis\n"
     ]
    }
   ],
   "source": [
    "#Frequentist approach\n",
    "\n",
    "# pooled sample proportion (p) \n",
    "p = (p1 * n1 + p2 * n2) / (n1 + n2)\n",
    "print(f\"Pooled sample proportion (p): {p}\")\n",
    "\n",
    "SE = ( p * ( 1 - p ) * ( (1/n1) + (1/n2) ) ) ** 0.5\n",
    "print(f\"Standard Error (SE) for the difference between callback rates:: {SE}\")\n",
    "\n",
    "z_stat = (p1 - p2) / SE\n",
    "print(f\"z-score: {z_stat}\")\n",
    "\n",
    "print(f\" The difference that we got between our sample portions, between black & white-sounding callbacks of 0.05, but that is {z_stat} standard deviations above and below our mean of our sampling distributtions assuming null hypothesis to be true\" )\n",
    "# Find 95% confidence intervals\n",
    "crit = stats.norm.isf(0.025)\n",
    "\n",
    "# find Margin of error(moe)\n",
    "m = np.abs(z_stat)  * SE\n",
    "#difference in proportions(d):\n",
    "d = p1 - p2\n",
    "\n",
    "ci_95 = ( d - crit* SE, d + crit* SE)\n",
    "print(\"95% confidence interval: ({:2.3f}, {:2.3f})\".format(ci_95[0],ci_95[1]))\n",
    "print(f\" If our interval{ci_95} does not overlap with 0, which happens to be the assumed mean, we reject the null hypothesis\")\n",
    "\n",
    "p_val = stats.norm.cdf(z_stat)\n",
    "print(f\"Since we have a two-tailed test, the P-value is the probability of the rejection region being less than {round(z_stat,2)} or greater than {round(abs(z_stat),2)}.\")\n",
    "\n",
    "p_value = p_val + p_val\n",
    "print('The p-value for the test of equality of callback rates is: {:1.5f}'.format(p_value))\n",
    "\n",
    "#\"The formula to calculate margin of error(m) is a little different for proportions for 95% confidence intervals:\")\n",
    "m = (((p*(1-p))/n)**0.5)*1.96\n",
    "print('margin of error: +/-{:0.5}'.format(abs(m)))\n",
    "\n",
    "if p_value < 0.05:\n",
    "    print(\"Since p-value < 0.05, reject Null Hypothesis\")\n",
    "else:\n",
    "    print(\"Accept null hypothesis\")\n"
   ]
  },
  {
   "cell_type": "code",
   "execution_count": 11,
   "metadata": {},
   "outputs": [
    {
     "data": {
      "image/png": "[encoded data removed]",
      "text/plain": [
       "<Figure size 432x288 with 1 Axes>"
      ]
     },
     "metadata": {
      "needs_background": "light"
     },
     "output_type": "display_data"
    }
   ],
   "source": [
    "import pylab\n",
    "## Normal Distribution of difference in percentage of Black and White Callbacks\n",
    "min_p= abs(d) - m\n",
    "max_p = abs(d) + m\n",
    "s = (((p*(1-p))/n)**0.5)\n",
    "x = np.linspace(0,0.07,4870)\n",
    "y1 = stats.norm.pdf(x, loc=abs(d), scale=s)    \n",
    "pylab.plot(x,y1)\n",
    "\n",
    "pylab.xlabel('Difference in % Callbacks')\n",
    "pylab.ylabel('PDF')\n",
    "pylab.vlines(min_p,0, 10, color='red')\n",
    "pylab.vlines(max_p,0,10, color='blue')\n",
    "pylab.vlines(abs(d),0,70)\n",
    "pylab.legend(['%B-%W', 'lower_limit of 95% CI', 'upper_limit of CI',\"mean\"])\n",
    "pylab.title('Difference in % CallBacks for Black and White Names')\n",
    "pylab.show()\n"
   ]
  },
  {
   "cell_type": "markdown",
   "metadata": {},
   "source": [
    " Two-sample Bootstrap Approach:\n",
    "\n",
    "A two-sample bootstrap hypothesis test for difference of means We now want to test the hypothesis that  the resumes of black-souding names and white-sounding names have the same  mean using the two-sample bootstrap test. Here, we shift both arrays to have the same mean, since we are simulating the hypothesis that their means are, in fact, equal. We then draw bootstrap samples out of the shifted arrays and compute the difference in means. This constitutes a bootstrap replicate, and we generate many of them. The p-value will be the fraction of replicates with a difference in means greater than or equal to what was observed.\n",
    "\n"
   ]
  },
  {
   "cell_type": "code",
   "execution_count": 12,
   "metadata": {},
   "outputs": [
    {
     "name": "stdout",
     "output_type": "stream",
     "text": [
      "empirical_diff_means : -0.032032854209445585\n",
      "95% confidence interval  of the  mean difference estimate by performing bootstrap resampling is : [-0.01519507  0.01519507]\n",
      "p-value : 0.0\n",
      "Since p-value is  < 0.05, the difference  is statistically significant and we reject Null Hypothesis with 95 % confidence\n"
     ]
    }
   ],
   "source": [
    "#The bootstrap_replicate_1d() function is provided below:\n",
    "\n",
    "def bootstrap_replicate_1d(data, func):\n",
    "    return func(np.random.choice(data, size=len(data)))\n",
    "    \n",
    "def draw_bs_reps(data, func, size=1):\n",
    "    \"\"\"Draw bootstrap replicates.\"\"\"\n",
    "\n",
    "    # Initialize array of replicates: bs_replicates\n",
    "    bs_replicates = np.empty(size)\n",
    "\n",
    "    # Generate replicates\n",
    "    for i in range(size):\n",
    "        bs_replicates[i] = bootstrap_replicate_1d(data, func)\n",
    "\n",
    "    return bs_replicates\n",
    "\n",
    "#Total number of resumes viewed whether call_backs or no callbacks based on race\n",
    "b_c = np.array([True] * int(n_b) + [False] * int(n1 -n_b ))\n",
    "w_c = np.array([True] * int(n_w) + [False] * int(n2 -n_w ))\n",
    "\n",
    "# Concatenate all\n",
    "all_concat = np.concatenate((b_c, w_c))\n",
    "# Compute mean of all forces: mean_force\n",
    "mean_callbacks = np.mean(all_concat)\n",
    "\n",
    "# Generate shifted arrays\n",
    "b_shifted = b_c - np.mean(b_c) + mean_callbacks\n",
    "w_shifted = w_c - np.mean(w_c) + mean_callbacks\n",
    "\n",
    "# Compute 10,000 bootstrap replicates from shifted arrays\n",
    "bs_replicates_b = draw_bs_reps(b_shifted, np.mean,size= 10000)\n",
    "bs_replicates_w = draw_bs_reps(w_shifted, np.mean, size=10000)\n",
    "\n",
    "# Get replicates of difference of means: bs_replicates\n",
    "bs_replicates = bs_replicates_b - bs_replicates_w\n",
    "\n",
    "\n",
    "# Compute difference of mean  from experiment: empirical_diff_means\n",
    "empirical_diff_means = np.mean(b_c) -  np.mean(w_c)\n",
    "print(f\"empirical_diff_means : {empirical_diff_means}\")\n",
    "\n",
    "\n",
    "# Compute and print p-value: p\n",
    "p = np.sum(bs_replicates == empirical_diff_means) / len(bs_replicates)\n",
    "\n",
    "#Confidence Interval(ci)\n",
    "ci = np.percentile(bs_replicates, [2.5, 97.5])\n",
    "print(f\"95% confidence interval  of the  mean difference estimate by performing bootstrap resampling is : {ci}\")\n",
    "print('p-value :', p)\n",
    "if p < 0.05:\n",
    "    print(\"Since p-value is  < 0.05, the difference  is statistically significant and we reject Null Hypothesis with 95 % confidence\")\n",
    "else:\n",
    "    print(\"Accept null hypothesis\")"
   ]
  },
  {
   "cell_type": "markdown",
   "metadata": {},
   "source": [
    "### Question 4: Write a story describing the statistical significance in the context or the original problem.\n",
    "\n",
    "##### Solution:\n",
    "Resumes with black-sounding names received a callback rate of 6.4%, while white names receivde a callback rate of 9.6%. Since we got p-value score which was less than 0.05 significance level in both frequentist approach and bootstrap approach, it has been proven that the difference of 3.2% is statistically significant. It is safe to assume that racial discrmination in the U.S. labor market still appears to be a challenge."
   ]
  },
  {
   "cell_type": "markdown",
   "metadata": {},
   "source": [
    "### 5. Does your analysis mean that race/name is the most important factor in callback success? Why or why not? If not, how would you amend your analysis?\n",
    "\n",
    "#### Analysis:\n",
    "Eventhough it looks like race can be a prominent factor to receive a call from prospective employees for interview based on our hypothesis, however race cannot be the only factor. Employees determine if the candidate is a good fit or not based on education, years of experience, location, voluntary experience, and technical skills and other variables in the dataset that can be taken into consideration."
   ]
  },
  {
   "cell_type": "code",
   "execution_count": null,
   "metadata": {},
   "outputs": [],
   "source": []
  }
 ],
 "metadata": {
  "kernelspec": {
   "display_name": "Python 3",
   "language": "python",
   "name": "python3"
  },
  "language_info": {
   "codemirror_mode": {
    "name": "ipython",
    "version": 3
   },
   "file_extension": ".py",
   "mimetype": "text/x-python",
   "name": "python",
   "nbconvert_exporter": "python",
   "pygments_lexer": "ipython3",
   "version": "3.7.3"
  }
 },
 "nbformat": 4,
 "nbformat_minor": 2
}
